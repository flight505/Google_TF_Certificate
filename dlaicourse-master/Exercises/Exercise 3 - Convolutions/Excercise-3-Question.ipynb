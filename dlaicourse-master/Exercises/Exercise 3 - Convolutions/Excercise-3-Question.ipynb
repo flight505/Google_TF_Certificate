{
 "cells": [
  {
   "cell_type": "markdown",
   "metadata": {
    "colab_type": "text",
    "id": "iQjHqsmTAVLU"
   },
   "source": [
    "## Exercise 3\n",
    "In the videos you looked at how you would improve Fashion MNIST using Convolutions. For your exercise see if you can improve MNIST to 99.8% accuracy or more using only a single convolutional layer and a single MaxPooling 2D. You should stop training once the accuracy goes above this amount. It should happen in less than 20 epochs, so it's ok to hard code the number of epochs for training, but your training must end once it hits the above metric. If it doesn't, then you'll need to redesign your layers.\n",
    "\n",
    "I've started the code for you -- you need to finish it!\n",
    "\n",
    "When 99.8% accuracy has been hit, you should print out the string \"Reached 99.8% accuracy so cancelling training!\"\n"
   ]
  },
  {
   "cell_type": "code",
   "execution_count": 2,
   "metadata": {},
   "outputs": [],
   "source": [
    "import tensorflow as tf\n",
    "from os import path, getcwd, chdir\n",
    "\n",
    "# DO NOT CHANGE THE LINE BELOW. If you are developing in a local\n",
    "# environment, then grab mnist.npz from the Coursera Jupyter Notebook\n",
    "# and place it inside a local folder and edit the path to that location\n",
    "path = f\"{getcwd()}/../tmp2/mnist.npz\""
   ]
  },
  {
   "cell_type": "code",
   "execution_count": 3,
   "metadata": {},
   "outputs": [],
   "source": [
    "config = tf.ConfigProto()\n",
    "config.gpu_options.allow_growth = True\n",
    "sess = tf.Session(config=config)"
   ]
  },
  {
   "cell_type": "code",
   "execution_count": 4,
   "metadata": {},
   "outputs": [],
   "source": [
    "# GRADED FUNCTION: train_mnist_conv\n",
    "def train_mnist_conv():\n",
    "    # Please write your code only where you are indicated.\n",
    "    # please do not remove model fitting inline comments.\n",
    "    \n",
    "    # YOUR CODE STARTS HERE\n",
    "    class myCallback(tf.keras.callbacks.Callback):\n",
    "        def on_epoch_end(self, epoch, logs={}):\n",
    "            if(logs.get('acc') > .998):\n",
    "                print(\"\\nReached 99.8% accuracy so cancelling training!\")\n",
    "                self.model.stop_training = True\n",
    "    # Create instance of callback \n",
    "    callbacks = myCallback() \n",
    "    \n",
    "    # YOUR CODE ENDS HERE\n",
    "    # Load the data\n",
    "    mnist = tf.keras.datasets.mnist\n",
    "    (training_images, training_labels), (test_images, test_labels) = mnist.load_data(path=path)\n",
    "    # YOUR CODE STARTS HERE\n",
    "    \n",
    "    # Reshape the images in a four-dimensional matrix\n",
    "    training_images=training_images.reshape(60000, 28, 28, 1)\n",
    "    test_images=test_images.reshape(10000, 28, 28, 1)\n",
    "    # normalize images to change the values of all pixels to a common scale\n",
    "    training_images = training_images / 255.0\n",
    "    test_images = test_images / 255.0\n",
    "\n",
    "    # YOUR CODE ENDS HERE\n",
    "    \n",
    "    # Declare model.\n",
    "    model = tf.keras.models.Sequential([\n",
    "            # YOUR CODE STARTS HERE     \n",
    "            # Feature extractor module composed of two convolutional/ReLU/max pooling layers \n",
    "            # Followed by the classifier with two fully connected layers\n",
    "            tf.keras.layers.Conv2D(32, (3,3), activation='relu', input_shape=(28, 28, 1)),\n",
    "            tf.keras.layers.MaxPooling2D(2, 2),\n",
    "        \n",
    "            tf.keras.layers.Conv2D(64, (3,3), activation='relu'),\n",
    "            tf.keras.layers.MaxPooling2D(2,2),\n",
    "        \n",
    "            tf.keras.layers.Flatten(),\n",
    "            tf.keras.layers.Dense(128, activation='relu'),\n",
    "            tf.keras.layers.Dense(10, activation='softmax')\n",
    "\n",
    "            # YOUR CODE ENDS HERE\n",
    "    ])\n",
    "    # Compile the model using an Adam (Adaptive Moment Estimation) optimizer\n",
    "    model.compile(optimizer='adam', loss='sparse_categorical_crossentropy', metrics=['accuracy'])\n",
    "    \n",
    "    # model fitting\n",
    "    history = model.fit(\n",
    "        # YOUR CODE STARTS HERE\n",
    "\n",
    "        training_images,\n",
    "        training_labels,\n",
    "        epochs = 18,\n",
    "        callbacks=[callbacks]\n",
    "        # YOUR CODE ENDS HERE\n",
    "    )\n",
    "    # model fitting\n",
    "    return history.epoch, history.history['acc'][-1]\n",
    "\n"
   ]
  },
  {
   "cell_type": "code",
   "execution_count": 5,
   "metadata": {},
   "outputs": [
    {
     "name": "stderr",
     "output_type": "stream",
     "text": [
      "WARNING: Logging before flag parsing goes to stderr.\n",
      "W0905 11:57:18.082009 140420862256960 deprecation.py:506] From /usr/local/lib/python3.6/dist-packages/tensorflow/python/ops/init_ops.py:1251: calling VarianceScaling.__init__ (from tensorflow.python.ops.init_ops) with dtype is deprecated and will be removed in a future version.\n",
      "Instructions for updating:\n",
      "Call initializer instance with the dtype argument instead of passing it to the constructor\n"
     ]
    },
    {
     "name": "stdout",
     "output_type": "stream",
     "text": [
      "Epoch 1/18\n",
      "60000/60000 [==============================] - 15s 246us/sample - loss: 0.1356 - acc: 0.9593\n",
      "Epoch 2/18\n",
      "60000/60000 [==============================] - 12s 196us/sample - loss: 0.0439 - acc: 0.9863\n",
      "Epoch 3/18\n",
      "60000/60000 [==============================] - 12s 198us/sample - loss: 0.0309 - acc: 0.9905\n",
      "Epoch 4/18\n",
      "60000/60000 [==============================] - 12s 207us/sample - loss: 0.0216 - acc: 0.9933 - loss: 0.0211 - acc:\n",
      "Epoch 5/18\n",
      "60000/60000 [==============================] - 12s 202us/sample - loss: 0.0164 - acc: 0.9947\n",
      "Epoch 6/18\n",
      "60000/60000 [==============================] - 12s 197us/sample - loss: 0.0129 - acc: 0.9958 - loss: 0.0126 - acc: 0.9\n",
      "Epoch 7/18\n",
      "60000/60000 [==============================] - 13s 213us/sample - loss: 0.0106 - acc: 0.9963\n",
      "Epoch 8/18\n",
      "60000/60000 [==============================] - 12s 203us/sample - loss: 0.0081 - acc: 0.9973\n",
      "Epoch 9/18\n",
      "60000/60000 [==============================] - 12s 207us/sample - loss: 0.0077 - acc: 0.9973\n",
      "Epoch 10/18\n",
      "59776/60000 [============================>.] - ETA: 0s - loss: 0.0060 - acc: 0.9980- ETA: 1s - loss: 0.0059 - \n",
      "Reached 99.8% accuracy so cancelling training!\n",
      "60000/60000 [==============================] - 12s 205us/sample - loss: 0.0060 - acc: 0.9980\n"
     ]
    }
   ],
   "source": [
    "_, _ = train_mnist_conv()"
   ]
  },
  {
   "cell_type": "code",
   "execution_count": 6,
   "metadata": {},
   "outputs": [],
   "source": [
    "# Now click the 'Submit Assignment' button above.\n",
    "# Once that is complete, please run the following two cells to save your work and close the notebook"
   ]
  },
  {
   "cell_type": "code",
   "execution_count": null,
   "metadata": {},
   "outputs": [],
   "source": [
    "%%javascript\n",
    "<!-- Save the notebook -->\n",
    "IPython.notebook.save_checkpoint();"
   ]
  },
  {
   "cell_type": "code",
   "execution_count": null,
   "metadata": {},
   "outputs": [
    {
     "data": {
      "application/javascript": [
       "IPython.notebook.session.delete();\n",
       "window.onbeforeunload = null\n",
       "setTimeout(function() { window.close(); }, 1000);\n"
      ],
      "text/plain": [
       "<IPython.core.display.Javascript object>"
      ]
     },
     "metadata": {},
     "output_type": "display_data"
    }
   ],
   "source": [
    "%%javascript\n",
    "IPython.notebook.session.delete();\n",
    "window.onbeforeunload = null\n",
    "setTimeout(function() { window.close(); }, 1000);"
   ]
  }
 ],
 "metadata": {
  "coursera": {
   "course_slug": "introduction-tensorflow",
   "graded_item_id": "ml06H",
   "launcher_item_id": "hQF8A"
  },
  "kernelspec": {
   "display_name": "Python 3",
   "language": "python",
   "name": "python3"
  },
  "language_info": {
   "codemirror_mode": {
    "name": "ipython",
    "version": 3
   },
   "file_extension": ".py",
   "mimetype": "text/x-python",
   "name": "python",
   "nbconvert_exporter": "python",
   "pygments_lexer": "ipython3",
   "version": "3.6.8"
  }
 },
 "nbformat": 4,
 "nbformat_minor": 1
}
